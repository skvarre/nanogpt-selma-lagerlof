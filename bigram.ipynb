{
 "cells": [
  {
   "cell_type": "code",
   "execution_count": 53,
   "metadata": {},
   "outputs": [],
   "source": [
    "import torch\n",
    "from torch import nn as nn\n",
    "from torch.nn import functional as F\n",
    "import numpy as np"
   ]
  },
  {
   "cell_type": "code",
   "execution_count": 45,
   "metadata": {},
   "outputs": [],
   "source": [
    "# Device agnostic code\n",
    "device = \"cuda\" if torch.cuda.is_available() else \"cpu\"\n",
    "# Hyperparameters\n",
    "block_size = 8\n",
    "batch_size = 4"
   ]
  },
  {
   "cell_type": "code",
   "execution_count": 54,
   "metadata": {},
   "outputs": [],
   "source": [
    "with open(\"content.txt\", 'r', encoding='utf-8') as f:\n",
    "    for line in f:\n",
    "        text = f.read()\n",
    "\n",
    "characters = sorted(set(text))\n",
    "vocab_size = len(characters)"
   ]
  },
  {
   "cell_type": "code",
   "execution_count": 28,
   "metadata": {},
   "outputs": [],
   "source": [
    "# Creating a mapping from unique characters to indices\n",
    "string_to_int = { char:index for index, char in enumerate(characters)}\n",
    "int_to_string = { index:char for index, char in enumerate(characters)}\n",
    "\n",
    "# Encoding the text\n",
    "encode = lambda s : [string_to_int[c] for c in s]\n",
    "decode = lambda c : ''.join([int_to_string[i] for i in c])\n",
    "\n",
    "# Turn into tensors \n",
    "data = torch.tensor(encode(text), dtype=torch.long)\n"
   ]
  },
  {
   "cell_type": "code",
   "execution_count": 52,
   "metadata": {},
   "outputs": [
    {
     "name": "stdout",
     "output_type": "stream",
     "text": [
      "tensor([1591208,  213786,  902263,  209614])\n",
      "inputs:\n",
      "torch.Size([4, 8])\n",
      "tensor([[49, 62,  1, 48, 51, 45, 53,  1],\n",
      "        [43,  1, 46, 47,  1, 48, 73, 49],\n",
      "        [60, 63, 53, 43, 46, 47,  1, 53],\n",
      "        [ 1, 82,  1, 19, 53, 62, 43,  1]], device='cuda:0')\n",
      "targets:\n",
      "tensor([[62,  1, 48, 51, 45, 53,  1, 46],\n",
      "        [ 1, 46, 47,  1, 48, 73, 49, 54],\n",
      "        [63, 53, 43, 46, 47,  1, 53, 57],\n",
      "        [82,  1, 19, 53, 62, 43,  1, 47]], device='cuda:0')\n"
     ]
    }
   ],
   "source": [
    "split = int(len(data) * 0.8) # Hyperparameter\n",
    "\n",
    "train_data = data[:split].to(device)\n",
    "test_data = data[split:].to(device)\n",
    "\n",
    "def get_batch(split):\n",
    "    data = train_data if split == \"train\" else test_data\n",
    "    start_index = torch.randint(len(data) - block_size, (batch_size,))\n",
    "    print(start_index)\n",
    "    x = torch.stack([data[idx:idx+block_size] for idx in start_index])\n",
    "    y = torch.stack([data[idx+1:idx+block_size+1] for idx in start_index])\n",
    "    x, y = x.to(device), y.to(device) # Make sure data is on the right device\n",
    "    return x, y\n",
    "\n",
    "x, y = get_batch(\"train\")\n",
    "print(\"inputs:\")\n",
    "print(x.shape)\n",
    "print(x)\n",
    "print(\"targets:\")\n",
    "print(y)\n"
   ]
  },
  {
   "cell_type": "code",
   "execution_count": 44,
   "metadata": {},
   "outputs": [
    {
     "name": "stdout",
     "output_type": "stream",
     "text": [
      "When input is tensor([22], device='cuda:0'), the target is 47\n",
      "When input is tensor([22, 47], device='cuda:0'), the target is 56\n",
      "When input is tensor([22, 47, 56], device='cuda:0'), the target is 1\n",
      "When input is tensor([22, 47, 56,  1], device='cuda:0'), the target is 61\n",
      "When input is tensor([22, 47, 56,  1, 61], device='cuda:0'), the target is 51\n",
      "When input is tensor([22, 47, 56,  1, 61, 51], device='cuda:0'), the target is 49\n",
      "When input is tensor([22, 47, 56,  1, 61, 51, 49], device='cuda:0'), the target is 56\n",
      "When input is tensor([22, 47, 56,  1, 61, 51, 49, 56], device='cuda:0'), the target is 43\n"
     ]
    }
   ],
   "source": [
    "x = train_data[:block_size]\n",
    "y = train_data[1:block_size+1]\n",
    "\n",
    "for t in range(block_size):\n",
    "    context = x[:t+1]\n",
    "    target = y[t]\n",
    "    print(f\"When input is {context}, the target is {target}\")"
   ]
  },
  {
   "cell_type": "code",
   "execution_count": null,
   "metadata": {},
   "outputs": [],
   "source": [
    "class BigramLanguageModel(nn.Module):\n",
    "    def __init__(self, vocab_size):\n",
    "        super().__init__()\n",
    "        self.token_embedding_table = nn.Embedding(vocab_size, vocab_size)\n",
    "\n",
    "\n",
    "    def forward(self, index, targets): \n",
    "        logits = self.token_embedding_table(index)\n",
    "        B, T, C = logits.shape # batch_size, time, vocab_size\n",
    "        logits = logits.view(B*T, C) # Flatten the batch and time dimensions\n",
    "        targets = targets.view(B*T) # Flatten the batch and time dimensions \n",
    "        loss = F.cross_entropy(logits, targets) # Calculate the loss \n",
    "\n",
    "        return logits, loss\n",
    "\n",
    "    # Generate new content\n",
    "    def generate(self, index, max_new_tokens):\n",
    "        for _ in range(max_new_tokens):\n",
    "            # Make predictions\n",
    "            logits, loss = self.forward(index)\n",
    "            # Get the last time step\n",
    "            logits = logits[:, -1, :] # (B, C)\n",
    "            # Turn into probabilities\n",
    "            probs = F.softmax(logits, dim=-1) # (B, C)\n",
    "            # Sample from the distribution or take the most likely\n",
    "            index_next = torch.multinomial(probs, num_samples=1) # (B, 1)\n",
    "            # Append to the sequence\n",
    "            index = torch.cat([index, index_next], dim=-1) # (B, T+1)\n",
    "        return index"
   ]
  }
 ],
 "metadata": {
  "kernelspec": {
   "display_name": "Python 3",
   "language": "python",
   "name": "python3"
  },
  "language_info": {
   "codemirror_mode": {
    "name": "ipython",
    "version": 3
   },
   "file_extension": ".py",
   "mimetype": "text/x-python",
   "name": "python",
   "nbconvert_exporter": "python",
   "pygments_lexer": "ipython3",
   "version": "3.11.0"
  }
 },
 "nbformat": 4,
 "nbformat_minor": 2
}
