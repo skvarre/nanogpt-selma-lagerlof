{
 "cells": [
  {
   "cell_type": "code",
   "execution_count": 77,
   "metadata": {},
   "outputs": [],
   "source": [
    "import torch\n",
    "from torch import nn as nn\n",
    "from torch.nn import functional as F\n",
    "import numpy as np\n",
    "from tqdm import tqdm "
   ]
  },
  {
   "cell_type": "code",
   "execution_count": 87,
   "metadata": {},
   "outputs": [],
   "source": [
    "# Device agnostic code\n",
    "device = \"cuda\" if torch.cuda.is_available() else \"cpu\"\n",
    "# Hyperparameters\n",
    "block_size = 8\n",
    "batch_size = 4\n",
    "max_iterations = 10000\n",
    "lr = 3e-4\n",
    "eval_iterations = 250\n",
    "dropout = 0.2"
   ]
  },
  {
   "cell_type": "code",
   "execution_count": 54,
   "metadata": {},
   "outputs": [],
   "source": [
    "with open(\"content.txt\", 'r', encoding='utf-8') as f:\n",
    "    for line in f:\n",
    "        text = f.read()\n",
    "\n",
    "characters = sorted(set(text))\n",
    "vocab_size = len(characters)"
   ]
  },
  {
   "cell_type": "code",
   "execution_count": 28,
   "metadata": {},
   "outputs": [],
   "source": [
    "# Creating a mapping from unique characters to indices\n",
    "string_to_int = { char:index for index, char in enumerate(characters)}\n",
    "int_to_string = { index:char for index, char in enumerate(characters)}\n",
    "\n",
    "# Encoding the text\n",
    "encode = lambda s : [string_to_int[c] for c in s]\n",
    "decode = lambda c : ''.join([int_to_string[i] for i in c])\n",
    "\n",
    "# Turn into tensors \n",
    "data = torch.tensor(encode(text), dtype=torch.long)\n"
   ]
  },
  {
   "cell_type": "code",
   "execution_count": 79,
   "metadata": {},
   "outputs": [
    {
     "name": "stdout",
     "output_type": "stream",
     "text": [
      "inputs:\n",
      "torch.Size([4, 8])\n",
      "tensor([[47, 62,  1, 48, 51, 56, 56, 61],\n",
      "        [ 1, 63, 62,  1, 43, 62, 62,  1],\n",
      "        [46, 47, 62,  1, 56, 51,  1, 62],\n",
      "        [61, 62, 63, 46, 47, 56, 62, 47]], device='cuda:0')\n",
      "targets:\n",
      "tensor([[62,  1, 48, 51, 56, 56, 61,  1],\n",
      "        [63, 62,  1, 43, 62, 62,  1, 44],\n",
      "        [47, 62,  1, 56, 51,  1, 62, 64],\n",
      "        [62, 63, 46, 47, 56, 62, 47, 56]], device='cuda:0')\n"
     ]
    }
   ],
   "source": [
    "split = int(len(data) * 0.8) # Hyperparameter\n",
    "\n",
    "train_data = data[:split].to(device)\n",
    "test_data = data[split:].to(device)\n",
    "\n",
    "def get_batch(split):\n",
    "    data = train_data if split == \"train\" else test_data\n",
    "    start_index = torch.randint(len(data) - block_size, (batch_size,))\n",
    "    # print(start_index)\n",
    "    x = torch.stack([data[idx:idx+block_size] for idx in start_index])\n",
    "    y = torch.stack([data[idx+1:idx+block_size+1] for idx in start_index])\n",
    "    x, y = x.to(device), y.to(device) # Make sure data is on the right device\n",
    "    return x, y\n",
    "\n",
    "x, y = get_batch(\"train\")\n",
    "print(\"inputs:\")\n",
    "print(x.shape)\n",
    "print(x)\n",
    "print(\"targets:\")\n",
    "print(y)\n"
   ]
  },
  {
   "cell_type": "code",
   "execution_count": 44,
   "metadata": {},
   "outputs": [
    {
     "name": "stdout",
     "output_type": "stream",
     "text": [
      "When input is tensor([22], device='cuda:0'), the target is 47\n",
      "When input is tensor([22, 47], device='cuda:0'), the target is 56\n",
      "When input is tensor([22, 47, 56], device='cuda:0'), the target is 1\n",
      "When input is tensor([22, 47, 56,  1], device='cuda:0'), the target is 61\n",
      "When input is tensor([22, 47, 56,  1, 61], device='cuda:0'), the target is 51\n",
      "When input is tensor([22, 47, 56,  1, 61, 51], device='cuda:0'), the target is 49\n",
      "When input is tensor([22, 47, 56,  1, 61, 51, 49], device='cuda:0'), the target is 56\n",
      "When input is tensor([22, 47, 56,  1, 61, 51, 49, 56], device='cuda:0'), the target is 43\n"
     ]
    }
   ],
   "source": [
    "x = train_data[:block_size]\n",
    "y = train_data[1:block_size+1]\n",
    "\n",
    "for t in range(block_size):\n",
    "    context = x[:t+1]\n",
    "    target = y[t]\n",
    "    print(f\"When input is {context}, the target is {target}\")"
   ]
  },
  {
   "cell_type": "code",
   "execution_count": 86,
   "metadata": {},
   "outputs": [],
   "source": [
    "def estimate_loss(model: nn.Module):\n",
    "    out = {}\n",
    "    with torch.inference_mode():\n",
    "        model.eval()\n",
    "        for split in ['train', 'val']:\n",
    "            losses = torch.zeros(eval_iterations)\n",
    "            for k in range(eval_iterations):\n",
    "                X, Y = get_batch(split)\n",
    "                logits, loss = model(X, Y)\n",
    "                losses[k] = loss.item()\n",
    "            out[split] = losses.mean()\n",
    "        model.train()\n",
    "    return out "
   ]
  },
  {
   "cell_type": "code",
   "execution_count": 61,
   "metadata": {},
   "outputs": [],
   "source": [
    "class BigramLanguageModel(nn.Module):\n",
    "    def __init__(self, vocab_size):\n",
    "        super().__init__()\n",
    "        self.token_embedding_table = nn.Embedding(vocab_size, vocab_size)\n",
    "\n",
    "\n",
    "    def forward(self, index, targets=None): \n",
    "        logits = self.token_embedding_table(index)\n",
    "\n",
    "        if targets is None:\n",
    "            loss = None\n",
    "        else:\n",
    "            B, T, C = logits.shape # batch_size, time, vocab_size\n",
    "            logits = logits.view(B*T, C) # Flatten the batch and time dimensions\n",
    "            targets = targets.view(B*T) # Flatten the batch and time dimensions \n",
    "            loss = F.cross_entropy(logits, targets) # Calculate the loss \n",
    "\n",
    "        return logits, loss\n",
    "\n",
    "    # Generate new content\n",
    "    def generate(self, index, max_new_tokens):\n",
    "        for _ in range(max_new_tokens):\n",
    "            # Make predictions\n",
    "            logits, loss = self.forward(index)\n",
    "            # Get the last time step\n",
    "            logits = logits[:, -1, :] # (B, C)\n",
    "            # Turn into probabilities\n",
    "            probs = F.softmax(logits, dim=-1) # (B, C)\n",
    "            # Sample from the distribution or take the most likely\n",
    "            index_next = torch.multinomial(probs, num_samples=1) # (B, 1)\n",
    "            # Append to the sequence\n",
    "            index = torch.cat((index, index_next), dim=1) # (B, T+1)\n",
    "        return index"
   ]
  },
  {
   "cell_type": "code",
   "execution_count": 63,
   "metadata": {},
   "outputs": [
    {
     "name": "stdout",
     "output_type": "stream",
     "text": [
      "\n",
      "JgFJ;VøzeeAYëëL:KmJoS6cgrp1vPéz9ü’Ö0A4q’CLDCJFfåOn6–9ADCTpyUqSm5Öpc39 :cüG41p1EtSwUzÖ–KpXFlIGr ti7VWmUüpYhLDg.mLl’Lä?…—SEHmIeW9ükVuUz9Nñu,hag\n",
      "U5hl,uFIKwO30v2oNñæWYñefsF?3?…rp–LéiwjOPføoD…HacFMOæÅæ\n",
      "üB8WYg:KDtrffO?4wÄNwW-Op’v,pVdëIx3øC1zj0XTp9\n",
      "hL;—ø–Pä;Uns;fC0i ÄfoB–F?Äw6D\n",
      "M?J,p1qM—-4Eåünmd?KRu2O-29XF\n",
      "étåti:éCqÅÖjëIvd8hüctVu2Y9!öXøWYbe?Gcæu14IkñYb9vlS3e86K6Gäu2O-olSkYg7—tTuWNñRXl8D3LnJAj3!F?D,th-… jO,s;kcI\n",
      "kG:—ÖjTëL4LéäågXAWYYreu,KtP!;’.MOP76R’n.Öë::kYñLXvö2!NbfPyoB p:p1kNruUAYvYr’vvd FBfStyüCcH;!\n"
     ]
    }
   ],
   "source": [
    "model_0 = BigramLanguageModel(vocab_size).to(device)\n",
    "\n",
    "context = torch.zeros((1,1), dtype=torch.long, device=device)\n",
    "generated_chars = decode(model_0.generate(context, max_new_tokens=500)[0].tolist())\n",
    "print(generated_chars)"
   ]
  },
  {
   "cell_type": "code",
   "execution_count": 84,
   "metadata": {},
   "outputs": [
    {
     "name": "stderr",
     "output_type": "stream",
     "text": [
      "100%|██████████| 10000/10000 [00:16<00:00, 618.88it/s]"
     ]
    },
    {
     "name": "stdout",
     "output_type": "stream",
     "text": [
      "2.570427179336548\n"
     ]
    },
    {
     "name": "stderr",
     "output_type": "stream",
     "text": [
      "\n"
     ]
    }
   ],
   "source": [
    "optimizer = torch.optim.AdamW(model_0.parameters(), lr=lr)\n",
    "\n",
    "for iter in tqdm(range(max_iterations)):\n",
    "    if iter % eval_iterations == 0:\n",
    "        print(f'Step: {iter} | Loss: {loss.item():.3f}')\n",
    "    # Sample a batch of data\n",
    "    xb, yb = get_batch(\"train\")\n",
    "\n",
    "    # Calculate the loss \n",
    "    logits, loss = model_0(xb, yb)\n",
    "    optimizer.zero_grad(set_to_none=True) # Clear the gradients\n",
    "    loss.backward() # Calculate the gradients\n",
    "    optimizer.step() # Update the weights\n",
    "\n",
    "print(loss.item())"
   ]
  },
  {
   "cell_type": "code",
   "execution_count": 85,
   "metadata": {},
   "outputs": [
    {
     "name": "stdout",
     "output_type": "stream",
     "text": [
      "\n",
      "éz!in N4e stta slåkve m. stt vlå ar s förar KzVæ\n",
      "A…ær ockumigreran F0vt lillinete harnadet nhäläpp memänan unakuten jan vale fader föriollo, fövit agattt förm. Uäranandugachottaden?O\n",
      "Jdedemkna, harar hat bypp ha må Nckavade jk ppran lövadördatelyn tensarödalfanevivara veko, h anajktyg h uve hoburttretrörr kunboch nocka l sen va adetti jat?\n",
      "Hänken.\n",
      " se SëqKzéKld de dadäche brtt me, s fat gretet AYva män somen, hötå ly:enara, be?Dulet venoere orågin, deplilet De höracha. Å2h-K1Ise. döm å ögdere?må\n"
     ]
    }
   ],
   "source": [
    "context = torch.zeros((1,1), dtype=torch.long, device=device)\n",
    "generated_chars = decode(model_0.generate(context, max_new_tokens=500)[0].tolist())\n",
    "print(generated_chars)"
   ]
  }
 ],
 "metadata": {
  "kernelspec": {
   "display_name": "Python 3",
   "language": "python",
   "name": "python3"
  },
  "language_info": {
   "codemirror_mode": {
    "name": "ipython",
    "version": 3
   },
   "file_extension": ".py",
   "mimetype": "text/x-python",
   "name": "python",
   "nbconvert_exporter": "python",
   "pygments_lexer": "ipython3",
   "version": "3.11.0"
  }
 },
 "nbformat": 4,
 "nbformat_minor": 2
}
