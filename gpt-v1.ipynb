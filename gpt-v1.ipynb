{
 "cells": [
  {
   "cell_type": "code",
   "execution_count": 1,
   "metadata": {},
   "outputs": [],
   "source": [
    "import torch\n",
    "from torch import nn as nn\n",
    "from torch.nn import functional as F\n",
    "import numpy as np\n",
    "from tqdm import tqdm "
   ]
  },
  {
   "cell_type": "code",
   "execution_count": 9,
   "metadata": {},
   "outputs": [],
   "source": [
    "# Device agnostic code\n",
    "device = \"cuda\" if torch.cuda.is_available() else \"cpu\"\n",
    "# Hyperparameters\n",
    "block_size = 8\n",
    "batch_size = 4\n",
    "max_iterations = 1000\n",
    "lr = 3e-4\n",
    "eval_iterations = 250\n",
    "dropout = 0.2\n",
    "num_embd = 384 \n",
    "num_layers = 4"
   ]
  },
  {
   "cell_type": "code",
   "execution_count": 3,
   "metadata": {},
   "outputs": [],
   "source": [
    "with open(\"content.txt\", 'r', encoding='utf-8') as f:\n",
    "    for line in f:\n",
    "        text = f.read()\n",
    "\n",
    "characters = sorted(set(text))\n",
    "vocab_size = len(characters)"
   ]
  },
  {
   "cell_type": "code",
   "execution_count": 4,
   "metadata": {},
   "outputs": [],
   "source": [
    "# Creating a mapping from unique characters to indices\n",
    "string_to_int = { char:index for index, char in enumerate(characters)}\n",
    "int_to_string = { index:char for index, char in enumerate(characters)}\n",
    "\n",
    "# Encoding the text\n",
    "encode = lambda s : [string_to_int[c] for c in s]\n",
    "decode = lambda c : ''.join([int_to_string[i] for i in c])\n",
    "\n",
    "# Turn into tensors \n",
    "data = torch.tensor(encode(text), dtype=torch.long)\n"
   ]
  },
  {
   "cell_type": "code",
   "execution_count": 5,
   "metadata": {},
   "outputs": [],
   "source": [
    "split = int(len(data) * 0.8) # Hyperparameter\n",
    "\n",
    "train_data = data[:split].to(device)\n",
    "test_data = data[split:].to(device)\n",
    "\n",
    "def get_batch(split: str = \"train\"):\n",
    "    \"\"\"Returns a random batch from the data\"\"\"\n",
    "    data = train_data if split == \"train\" else test_data\n",
    "    start_index = torch.randint(len(data) - block_size, (batch_size,))\n",
    "    # print(start_index)\n",
    "    x = torch.stack([data[idx:idx+block_size] for idx in start_index])\n",
    "    y = torch.stack([data[idx+1:idx+block_size+1] for idx in start_index])\n",
    "    x, y = x.to(device), y.to(device) # Make sure data is on the right device\n",
    "    return x, y"
   ]
  },
  {
   "cell_type": "code",
   "execution_count": 44,
   "metadata": {},
   "outputs": [
    {
     "name": "stdout",
     "output_type": "stream",
     "text": [
      "When input is tensor([22], device='cuda:0'), the target is 47\n",
      "When input is tensor([22, 47], device='cuda:0'), the target is 56\n",
      "When input is tensor([22, 47, 56], device='cuda:0'), the target is 1\n",
      "When input is tensor([22, 47, 56,  1], device='cuda:0'), the target is 61\n",
      "When input is tensor([22, 47, 56,  1, 61], device='cuda:0'), the target is 51\n",
      "When input is tensor([22, 47, 56,  1, 61, 51], device='cuda:0'), the target is 49\n",
      "When input is tensor([22, 47, 56,  1, 61, 51, 49], device='cuda:0'), the target is 56\n",
      "When input is tensor([22, 47, 56,  1, 61, 51, 49, 56], device='cuda:0'), the target is 43\n"
     ]
    }
   ],
   "source": [
    "x = train_data[:block_size]\n",
    "y = train_data[1:block_size+1]\n",
    "\n",
    "for t in range(block_size):\n",
    "    context = x[:t+1]\n",
    "    target = y[t]\n",
    "    print(f\"When input is {context}, the target is {target}\")"
   ]
  },
  {
   "cell_type": "code",
   "execution_count": 6,
   "metadata": {},
   "outputs": [],
   "source": [
    "def estimate_loss(model: nn.Module):\n",
    "    out = {}\n",
    "    with torch.inference_mode():\n",
    "        model.eval()\n",
    "        for split in ['train', 'val']:\n",
    "            losses = torch.zeros(eval_iterations)\n",
    "            for k in range(eval_iterations):\n",
    "                X, Y = get_batch(split)\n",
    "                logits, loss = model(X, Y)\n",
    "                losses[k] = loss.item()\n",
    "            out[split] = losses.mean()\n",
    "        model.train()\n",
    "    return out "
   ]
  },
  {
   "cell_type": "code",
   "execution_count": 14,
   "metadata": {},
   "outputs": [],
   "source": [
    "class Head(nn.Module):\n",
    "    \"\"\"One head of self-attention\"\"\"\n",
    "    def __init__(self, head_size):\n",
    "        super().__init__()\n",
    "        self.key = nn.Linear(num_embd, head_size, bias=False)\n",
    "        self.query = nn.Linear(num_embd, head_size, bias=False)\n",
    "        self.value = nn.Linear(num_embd, head_size, bias=False)\n",
    "        self.register_buffer('tril', torch.tril(torch.ones(block_size, block_size)))\n",
    "        self.droupout = nn.Dropout(dropout)\n",
    "\n",
    "    def forward(self, x):\n",
    "        # Input shape (Batch, time-step, channels)\n",
    "        # Output shape: (Batch, time-step, head size)\n",
    "        B, T, C = x.shape\n",
    "        # Calling the transformations, but different ones for each\n",
    "        k = self.key(x) # (B, T, head size)\n",
    "        q = self.query(x) # (B, T, head size)\n",
    "        # Compute attention scores\n",
    "        weight = q @ k.transpose(-2, -1) * k.shape[-1]**-0.5 # (B, T, T)\n",
    "        weight = weight.masked_fill(self.tril[:T, :T] == 0, float('-inf')) # Mask out upper triangular \n",
    "        weight = F.softmax(weight, dim=-1) # (B, T, T)\n",
    "        weight = self.dropout(weight)\n",
    "        # Apply attention\n",
    "        v = self.value(x) # (B, T, head size)\n",
    "        out = weight @ v # (B, T, head size)\n",
    "        return out"
   ]
  },
  {
   "cell_type": "code",
   "execution_count": 12,
   "metadata": {},
   "outputs": [],
   "source": [
    "class MultiHeadAttention(nn.Module):\n",
    "    \"\"\" Multiple heads of self-attention in parallel \"\"\"\n",
    "    def __init__(self, num_heads, head_size):\n",
    "        super().__init__()\n",
    "        self.heads = nn.ModuleList([Head(head_size) for _ in range(num_heads)])\n",
    "        self.proj = nn.Linear(in_features=head_size * num_heads, out_features=num_embd)\n",
    "        self.dropout = nn.Dropout(dropout) \n",
    "    \n",
    "    def forward(self, x):\n",
    "        out = torch.cat([h(x) for h in self.heads], dim=-1) # (B, T, F) where F = head_size * num_heads\n",
    "        out = self.dropout(self.proj(out)) # (B, T, E)\n",
    "        return out"
   ]
  },
  {
   "cell_type": "code",
   "execution_count": 11,
   "metadata": {},
   "outputs": [],
   "source": [
    "class FeedForward(nn.Module):\n",
    "    \"\"\"A simple feed forward with linear layers and ReLU activations\"\"\"\n",
    "    def __init__(self, num_embd):\n",
    "        super().__init__()\n",
    "        self.net = nn.Sequential(\n",
    "            nn.Linear(in_features=num_embd, out_features=4*num_embd),\n",
    "            nn.ReLU(),\n",
    "            nn.Linear(in_features=4*num_embd, out_features=num_embd),\n",
    "            nn.Dropout(dropout) # Dropout to prevent overfitting\n",
    "        )\n",
    "    \n",
    "    def forward(self, x):\n",
    "        return self.net(x)\n",
    "\n",
    "class Block(nn.Module):\n",
    "    \"\"\"Implementation of a Transformer block\"\"\"\n",
    "    def __init__(self, num_embd, num_head):\n",
    "        super().__init__()\n",
    "        head_size = num_embd // num_head \n",
    "        self.self_attention = MultiHeadAttention(num_embd, head_size)\n",
    "        self.feed_forward = FeedForward(num_embd)\n",
    "        self.ln1 = nn.LayerNorm(num_embd)\n",
    "        self.ln2 = nn.LayerNorm(num_embd)\n",
    "\n",
    "    def forward(self, x):\n",
    "        y = self.self_attention(x)\n",
    "        x = self.ln1(x + y)\n",
    "        y = self.feed_forward(x)\n",
    "        x = self.ln2(x + y)\n",
    "        return x\n",
    "\n",
    "\n",
    "class GPTModel(nn.Module):\n",
    "    def __init__(self, vocab_size):\n",
    "        super().__init__()\n",
    "        self.token_embedding_table = nn.Embedding(vocab_size, num_embd)\n",
    "        self.position_embedding_table = nn.Embedding(block_size, num_embd)\n",
    "        self.blocks = nn.Sequential(*[Block(num_embd, num_head=num_head) for _ in range(num_layers)])\n",
    "        self.ln_f = nn.LayerNorm(num_embd) # Layer normalization\n",
    "        self.lm_head = nn.Linear(num_embd, vocab_size) # Language modeling head, i.e. the weights to the logits\n",
    "\n",
    "        self.apply(self._init_weights)\n",
    "\n",
    "        def _init_weights(self, module):\n",
    "            if isinstance(module, nn.Linear):\n",
    "                nn.init.normal_(module.weight, mean=0.0, std=0.02)\n",
    "                if module.bias is not None:\n",
    "                    nn.init.zeros_(module.bias)\n",
    "            elif isinstance(module, nn.Embedding):\n",
    "                nn.init.normal_(module.weight, mean=0.0, std=0.02)\n",
    "\n",
    "    def forward(self, index, targets=None): \n",
    "        logits = self.token_embedding_table(index)\n",
    "\n",
    "        # Feed the sequence through the transformer blocks\n",
    "        token_embd = self.token_embedding_table(index)\n",
    "        position_embd = self.position_embedding_table(torch.arange(T, device=device)) # (T, C)\n",
    "        x = token_embd + position_embd # (B, T, C)\n",
    "        x = self.blocks(x) # (B, T, C)\n",
    "        x = self.ln_f(x) # (B, T, C)\n",
    "        logits = self.lm_head(x) # (B, T, vocab_size)\n",
    "\n",
    "        if targets is None:\n",
    "            loss = None\n",
    "        else:\n",
    "            B, T, C = logits.shape # batch_size, time, vocab_size\n",
    "            logits = logits.view(B*T, C) # Flatten the batch and time dimensions\n",
    "            targets = targets.view(B*T) # Flatten the batch and time dimensions \n",
    "            loss = F.cross_entropy(logits, targets) # Calculate the loss \n",
    "\n",
    "        return logits, loss\n",
    "\n",
    "    # Generate new content\n",
    "    def generate(self, index, max_new_tokens):\n",
    "        for _ in range(max_new_tokens):\n",
    "            # Make predictions\n",
    "            logits, loss = self.forward(index)\n",
    "            # Get the last time step\n",
    "            logits = logits[:, -1, :] # (B, C)\n",
    "            # Turn into probabilities\n",
    "            probs = F.softmax(logits, dim=-1) # (B, C)\n",
    "            # Sample from the distribution or take the most likely\n",
    "            index_next = torch.multinomial(probs, num_samples=1) # (B, 1)\n",
    "            # Append to the sequence\n",
    "            index = torch.cat((index, index_next), dim=1) # (B, T+1)\n",
    "        return index"
   ]
  },
  {
   "cell_type": "code",
   "execution_count": 63,
   "metadata": {},
   "outputs": [
    {
     "name": "stdout",
     "output_type": "stream",
     "text": [
      "\n",
      "JgFJ;VøzeeAYëëL:KmJoS6cgrp1vPéz9ü’Ö0A4q’CLDCJFfåOn6–9ADCTpyUqSm5Öpc39 :cüG41p1EtSwUzÖ–KpXFlIGr ti7VWmUüpYhLDg.mLl’Lä?…—SEHmIeW9ükVuUz9Nñu,hag\n",
      "U5hl,uFIKwO30v2oNñæWYñefsF?3?…rp–LéiwjOPføoD…HacFMOæÅæ\n",
      "üB8WYg:KDtrffO?4wÄNwW-Op’v,pVdëIx3øC1zj0XTp9\n",
      "hL;—ø–Pä;Uns;fC0i ÄfoB–F?Äw6D\n",
      "M?J,p1qM—-4Eåünmd?KRu2O-29XF\n",
      "étåti:éCqÅÖjëIvd8hüctVu2Y9!öXøWYbe?Gcæu14IkñYb9vlS3e86K6Gäu2O-olSkYg7—tTuWNñRXl8D3LnJAj3!F?D,th-… jO,s;kcI\n",
      "kG:—ÖjTëL4LéäågXAWYYreu,KtP!;’.MOP76R’n.Öë::kYñLXvö2!NbfPyoB p:p1kNruUAYvYr’vvd FBfStyüCcH;!\n"
     ]
    }
   ],
   "source": [
    "model_0 = BigramLanguageModel(vocab_size).to(device)\n",
    "\n",
    "context = torch.zeros((1,1), dtype=torch.long, device=device)\n",
    "generated_chars = decode(model_0.generate(context, max_new_tokens=500)[0].tolist())\n",
    "print(generated_chars)"
   ]
  },
  {
   "cell_type": "code",
   "execution_count": 106,
   "metadata": {},
   "outputs": [
    {
     "name": "stderr",
     "output_type": "stream",
     "text": [
      "  6%|▌         | 56/1000 [00:00<00:08, 112.97it/s]"
     ]
    },
    {
     "name": "stdout",
     "output_type": "stream",
     "text": [
      "Step: 0 | Train Loss: 2.4214 | Val Loss: 2.4200\n"
     ]
    },
    {
     "name": "stderr",
     "output_type": "stream",
     "text": [
      " 32%|███▏      | 316/1000 [00:01<00:02, 272.81it/s]"
     ]
    },
    {
     "name": "stdout",
     "output_type": "stream",
     "text": [
      "Step: 250 | Train Loss: 2.3808 | Val Loss: 2.4350\n"
     ]
    },
    {
     "name": "stderr",
     "output_type": "stream",
     "text": [
      " 56%|█████▌    | 557/1000 [00:02<00:01, 303.85it/s]"
     ]
    },
    {
     "name": "stdout",
     "output_type": "stream",
     "text": [
      "Step: 500 | Train Loss: 2.3753 | Val Loss: 2.4320\n"
     ]
    },
    {
     "name": "stderr",
     "output_type": "stream",
     "text": [
      " 84%|████████▍ | 838/1000 [00:03<00:00, 326.92it/s]"
     ]
    },
    {
     "name": "stdout",
     "output_type": "stream",
     "text": [
      "Step: 750 | Train Loss: 2.3823 | Val Loss: 2.4134\n"
     ]
    },
    {
     "name": "stderr",
     "output_type": "stream",
     "text": [
      "100%|██████████| 1000/1000 [00:03<00:00, 304.31it/s]"
     ]
    },
    {
     "name": "stdout",
     "output_type": "stream",
     "text": [
      "2.164550542831421\n"
     ]
    },
    {
     "name": "stderr",
     "output_type": "stream",
     "text": [
      "\n"
     ]
    }
   ],
   "source": [
    "optimizer = torch.optim.AdamW(model_0.parameters(), lr=lr)\n",
    "\n",
    "for iter in tqdm(range(max_iterations)):\n",
    "    if iter % eval_iterations == 0:\n",
    "        losses = estimate_loss(model_0)\n",
    "        print(f'Step: {iter} | Train Loss: {losses[\"train\"]:.4f} | Val Loss: {losses[\"val\"]:.4f}')\n",
    "    # Sample a batch of data\n",
    "    xb, yb = get_batch(\"train\")\n",
    "\n",
    "    # Calculate the loss \n",
    "    logits, loss = model_0(xb, yb)\n",
    "    optimizer.zero_grad(set_to_none=True) # Clear the gradients\n",
    "    loss.backward() # Calculate the gradients\n",
    "    optimizer.step() # Update the weights\n",
    "\n",
    "print(loss.item())"
   ]
  },
  {
   "cell_type": "code",
   "execution_count": 111,
   "metadata": {},
   "outputs": [
    {
     "name": "stdout",
     "output_type": "stream",
     "text": [
      "\n",
      "inochartttist sku j, fr ge sedene och venyme het Dad, st ut henslynkych ägtn, hadendenonyn i m met lvi a ommllllku usmesfr.\n",
      "MHa ktslllättadesäril dendarrtilt bynndde. hofanomåga hate Derdanäst le Sår h fi ranörn, m h vi ivelaskenängen. kadgapa bli h Dede gå om e hart. han hut Ha inar föv an stt h sspt dag ha, imetonst s.\n",
      "De h hott ag ne jkadjuttändedjäm. mislat.\n",
      "Pkiga mar Därar mdlesk män t.\n",
      "Hon, ssvrleryt vi br sfr kt hörbän anätevetrskage lam spå fonie de he st vadenngäru d, s h voch sk, aren \n"
     ]
    }
   ],
   "source": [
    "context = torch.zeros((1,1), dtype=torch.long, device=device)\n",
    "generated_chars = decode(model_0.generate(context, max_new_tokens=500)[0].tolist())\n",
    "print(generated_chars)"
   ]
  }
 ],
 "metadata": {
  "kernelspec": {
   "display_name": "Python 3",
   "language": "python",
   "name": "python3"
  },
  "language_info": {
   "codemirror_mode": {
    "name": "ipython",
    "version": 3
   },
   "file_extension": ".py",
   "mimetype": "text/x-python",
   "name": "python",
   "nbconvert_exporter": "python",
   "pygments_lexer": "ipython3",
   "version": "3.11.0"
  }
 },
 "nbformat": 4,
 "nbformat_minor": 2
}
